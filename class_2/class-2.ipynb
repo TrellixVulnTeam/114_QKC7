{
 "cells": [
  {
   "cell_type": "code",
   "execution_count": 15,
   "metadata": {},
   "outputs": [],
   "source": [
    "class Stack:\n",
    "    def __init__(self):\n",
    "        self.items = []\n",
    "        \n",
    "    def push(self, element):\n",
    "        self.items.append(element)\n",
    "        \n",
    "    def pop(self):\n",
    "        return self.items.pop()\n",
    "    \n",
    "    def get_size(self):\n",
    "        return len(self.items)\n",
    "    \n",
    "    def is_empty(self):\n",
    "        return self.items == []\n",
    "    \n",
    "    def invert_stack(self):\n",
    "        return self.items[::-1]\n",
    "    \n",
    " \n",
    "    "
   ]
  },
  {
   "cell_type": "code",
   "execution_count": 7,
   "metadata": {},
   "outputs": [
    {
     "name": "stdout",
     "output_type": "stream",
     "text": [
      "popping number: 5\n",
      "popping number: 4\n",
      "popping number: 3\n",
      "popping number: 2\n",
      "popping number: 1\n",
      "None\n"
     ]
    }
   ],
   "source": [
    "numbers = [1,2,3,4,5]\n",
    "\n",
    "def invert_numbers(my_collection):\n",
    "    stack = Stack()\n",
    "    for num in my_collection:\n",
    "        stack.push(num)\n",
    "    while not stack.is_empty():\n",
    "        number = stack.pop()\n",
    "        print(f'popping number: {number}')\n",
    "invert_numbers(numbers)"
   ]
  },
  {
   "cell_type": "markdown",
   "metadata": {},
   "source": [
    "# challenge 1\n",
    "\n",
    "## use a stack to invert a string\n",
    "\n",
    "### given \"mystring\" as a parameter, invert it"
   ]
  },
  {
   "cell_type": "code",
   "execution_count": 21,
   "metadata": {},
   "outputs": [
    {
     "name": "stdout",
     "output_type": "stream",
     "text": [
      "niloc\n"
     ]
    }
   ],
   "source": [
    "def string_invert(my_string):\n",
    "    stack = Stack()\n",
    "    for lett in my_string:\n",
    "        stack.push(lett)\n",
    "    return ''.join(stack.invert_stack())\n",
    "\n",
    "print(string_invert('colin'))"
   ]
  },
  {
   "cell_type": "markdown",
   "metadata": {},
   "source": [
    "# Queue's"
   ]
  },
  {
   "cell_type": "code",
   "execution_count": 24,
   "metadata": {},
   "outputs": [],
   "source": [
    " class Queue:\n",
    "    def __init__(self):\n",
    "        self.items = []\n",
    "            \n",
    "    def enqueue(self, element):\n",
    "        self.items.append(element)\n",
    "        \n",
    "    def dequeue(self):\n",
    "        return self.items.pop(0)\n",
    "        \n",
    "    def get_size(self):\n",
    "        return len(self.items)\n",
    "        \n",
    "    def is_empty(self):\n",
    "        return self.is_empty == []\n",
    "        "
   ]
  },
  {
   "cell_type": "markdown",
   "metadata": {},
   "source": [
    "# mini challenge 2\n",
    "\n",
    "## create a queue from 2 stacks\n",
    "\n"
   ]
  },
  {
   "cell_type": "code",
   "execution_count": 1,
   "metadata": {},
   "outputs": [
    {
     "name": "stdout",
     "output_type": "stream",
     "text": [
      "0\n",
      "1\n",
      "2\n",
      "3\n",
      "4\n"
     ]
    }
   ],
   "source": [
    "class Queue2Stacks:\n",
    "    def __init__(self):\n",
    "        self.stack1 = []\n",
    "        self.stack2 = []\n",
    "        \n",
    "    def enqueue(self, item):\n",
    "        self.stack1.append(item)\n",
    "\n",
    "    def dequeue(self):\n",
    "        if self.stack2 == []:\n",
    "            while self.stack1:\n",
    "                self.stack2.append(self.stack1.pop())\n",
    "        return self.stack2.pop()\n",
    "    \n",
    "q = Queue2Stacks()\n",
    "for x in range(5):\n",
    "    q.enqueue(x)\n",
    "    \n",
    "for _ in range(5):\n",
    "    item = q.dequeue()\n",
    "    print(item)\n",
    "        \n",
    "\n",
    "    "
   ]
  },
  {
   "cell_type": "code",
   "execution_count": null,
   "metadata": {},
   "outputs": [],
   "source": []
  }
 ],
 "metadata": {
  "kernelspec": {
   "display_name": "Python 3",
   "language": "python",
   "name": "python3"
  },
  "language_info": {
   "codemirror_mode": {
    "name": "ipython",
    "version": 3
   },
   "file_extension": ".py",
   "mimetype": "text/x-python",
   "name": "python",
   "nbconvert_exporter": "python",
   "pygments_lexer": "ipython3",
   "version": "3.8.5"
  }
 },
 "nbformat": 4,
 "nbformat_minor": 4
}
