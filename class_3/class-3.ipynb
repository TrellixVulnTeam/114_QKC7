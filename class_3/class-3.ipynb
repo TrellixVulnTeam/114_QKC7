{
 "cells": [
  {
   "cell_type": "markdown",
   "metadata": {},
   "source": [
    "# Parenthesis check\n",
    "## given a string of opening and closing parentheses, check whether is it balanced\n",
    "\n",
    "### for example, ({}) is balanced but ([)] is not"
   ]
  },
  {
   "cell_type": "code",
   "execution_count": 32,
   "metadata": {},
   "outputs": [
    {
     "name": "stdout",
     "output_type": "stream",
     "text": [
      "False\n",
      "True\n",
      "True\n",
      "False\n",
      "True\n",
      "False\n",
      "False\n",
      "True\n",
      "False\n"
     ]
    }
   ],
   "source": [
    "# if length of s is odd:\n",
    "#     return false\n",
    "# else\n",
    "#     iterate over the string\n",
    "#     if the first item is an opening bracket, put it in the string\n",
    "#     otherwise return false\n",
    "#     if the next item is a closing bracket to the previous item, pop it out of the stack\n",
    "#     else check if its an opener, if so, put it in the string\n",
    "\n",
    "\n",
    "\n",
    "def balance_check(s):\n",
    "    \n",
    "    reference_dict = {\n",
    "        \"(\" : \")\",\n",
    "        \"[\" : \"]\",\n",
    "        \"{\" : \"}\", \n",
    "    }\n",
    "    \n",
    "    if s[0] in reference_dict.values() or len(s) % 2 != 0 :\n",
    "        return False\n",
    "    \n",
    "    stack = []\n",
    "    \n",
    "    for item in s:\n",
    "\n",
    "        if item in reference_dict.keys():\n",
    "            stack.append(item)\n",
    "        \n",
    "        elif stack == [] or item != reference_dict[stack.pop()] :\n",
    "            return False\n",
    "        \n",
    "  \n",
    "    return True       \n",
    "        \n",
    "        \n",
    " \n",
    "\n",
    "print(balance_check('(){[)]}'))\n",
    "print(balance_check('(){[]}'))\n",
    "print(balance_check('(){[]}[[[[]]]]'))\n",
    "print(balance_check('(){[]}[[[[(])]]]'))\n",
    "print(balance_check('([]{})'))\n",
    "print(balance_check('))([]{})'))\n",
    "print(balance_check(')'))\n",
    "print(balance_check('([])(('))\n",
    "print(balance_check('()]]()'))\n"
   ]
  },
  {
   "cell_type": "markdown",
   "metadata": {},
   "source": [
    "# Linked Lists\n",
    "\n"
   ]
  },
  {
   "cell_type": "code",
   "execution_count": 33,
   "metadata": {},
   "outputs": [],
   "source": [
    "class Node:\n",
    "    def __init__(self, data):\n",
    "        self.data = data\n",
    "        self.next = None\n",
    "        \n",
    "\n",
    "        "
   ]
  },
  {
   "cell_type": "code",
   "execution_count": 34,
   "metadata": {},
   "outputs": [
    {
     "name": "stdout",
     "output_type": "stream",
     "text": [
      "0\n",
      "1\n",
      "2\n",
      "3\n"
     ]
    }
   ],
   "source": [
    "head = Node(0)\n",
    "\n",
    "new_node1 = Node(1)\n",
    "new_node2 = Node(2)\n",
    "new_node3 = Node(3)\n",
    "\n",
    "head.next = new_node1\n",
    "new_node1.next = new_node2\n",
    "new_node2.next = new_node3\n",
    "\n",
    "current = head \n",
    "while current: \n",
    "    print(current.data)\n",
    "    current = current.next"
   ]
  },
  {
   "cell_type": "code",
   "execution_count": 1,
   "metadata": {},
   "outputs": [
    {
     "ename": "SyntaxError",
     "evalue": "invalid syntax (<ipython-input-1-2ad7ce77e0d9>, line 21)",
     "output_type": "error",
     "traceback": [
      "\u001b[0;36m  File \u001b[0;32m\"<ipython-input-1-2ad7ce77e0d9>\"\u001b[0;36m, line \u001b[0;32m21\u001b[0m\n\u001b[0;31m    if index = 0:\u001b[0m\n\u001b[0m             ^\u001b[0m\n\u001b[0;31mSyntaxError\u001b[0m\u001b[0;31m:\u001b[0m invalid syntax\n"
     ]
    }
   ],
   "source": [
    "\n",
    "class SLL:\n",
    "    def __init__(self):\n",
    "        self.head = None\n",
    "        \n",
    "        \n",
    "    def append(self, item):\n",
    "        # if list is empty\n",
    "        if not self.head:\n",
    "            self.head = Node(item)\n",
    "        \n",
    "        else:\n",
    "            current = self.head\n",
    "            while current.next:\n",
    "                current = current.next\n",
    "            current.next = Node(item)\n",
    "    \n",
    "    def insert(self, index, item):\n",
    "        count = 0\n",
    "        current = self.head\n",
    "        \n",
    "        if index == 0:\n",
    "            self.head = Node(item)\n",
    "            self.head.next = current\n",
    "            \n",
    "        while current.next:\n",
    "            if count != index:\n",
    "                continue\n",
    "            \n",
    "            else\n",
    "            \n",
    "            \n",
    "        \n",
    "    "
   ]
  },
  {
   "cell_type": "code",
   "execution_count": null,
   "metadata": {},
   "outputs": [],
   "source": []
  }
 ],
 "metadata": {
  "kernelspec": {
   "display_name": "Python 3",
   "language": "python",
   "name": "python3"
  },
  "language_info": {
   "codemirror_mode": {
    "name": "ipython",
    "version": 3
   },
   "file_extension": ".py",
   "mimetype": "text/x-python",
   "name": "python",
   "nbconvert_exporter": "python",
   "pygments_lexer": "ipython3",
   "version": "3.8.5"
  }
 },
 "nbformat": 4,
 "nbformat_minor": 4
}
