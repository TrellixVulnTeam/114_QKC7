{
 "cells": [
  {
   "cell_type": "markdown",
   "metadata": {},
   "source": [
    "#problem 1\n",
    "\n",
    "given 2 strings, lets check whether they are anagrams of each other or not"
   ]
  },
  {
   "cell_type": "code",
   "execution_count": 23,
   "metadata": {},
   "outputs": [
    {
     "name": "stdout",
     "output_type": "stream",
     "text": [
      "car s \n",
      "cars\n"
     ]
    }
   ],
   "source": [
    "from collections import Counter\n",
    "\n",
    "def are_anagrams(str1, str2):\n",
    "    \n",
    "    str1 = str1.replace(\" \", \"\")\n",
    "    str2 = str2.replace(\" \", \"\")\n",
    "\n",
    "    a = Counter(str1.lower())\n",
    "    b = Counter(str2.lower())\n",
    "    \n",
    "    return a == b\n",
    "    \n",
    "are_anagrams('cars', 'scar')\n",
    "are_anagrams('Cars', 'scar')\n",
    "are_anagrams('car s ', 'scar  ')\n",
    "are_anagrams('c ars ', 'sc  ar')"
   ]
  },
  {
   "cell_type": "code",
   "execution_count": 30,
   "metadata": {},
   "outputs": [
    {
     "name": "stdout",
     "output_type": "stream",
     "text": [
      "True\n",
      "True\n",
      "True\n",
      "False\n"
     ]
    }
   ],
   "source": [
    "def test(st1, st2):\n",
    "    \n",
    "    st1 = st1.replace(\" \", \"\").lower()\n",
    "    st2 = st2.replace(\" \", \"\").lower()\n",
    "    \n",
    "    t = {}\n",
    "    for x in st1:\n",
    "        if x not in t:\n",
    "            t[x] = 0\n",
    "        t[x] += 1\n",
    "        \n",
    "    p = {}\n",
    "    for x in st2:\n",
    "        if x not in p:\n",
    "            p[x] = 0\n",
    "        p[x] += 1\n",
    "        \n",
    " \n",
    "    return t == p\n",
    "\n",
    "print(test('cars', 'scar'))\n",
    "print(test('Cars', 'scar'))\n",
    "print(test('car s ', 'scar  '))\n",
    "print(test('carst  ', 'sc  ar'))"
   ]
  },
  {
   "cell_type": "code",
   "execution_count": null,
   "metadata": {},
   "outputs": [],
   "source": []
  }
 ],
 "metadata": {
  "kernelspec": {
   "display_name": "Python 3",
   "language": "python",
   "name": "python3"
  },
  "language_info": {
   "codemirror_mode": {
    "name": "ipython",
    "version": 3
   },
   "file_extension": ".py",
   "mimetype": "text/x-python",
   "name": "python",
   "nbconvert_exporter": "python",
   "pygments_lexer": "ipython3",
   "version": "3.8.5"
  }
 },
 "nbformat": 4,
 "nbformat_minor": 5
}
